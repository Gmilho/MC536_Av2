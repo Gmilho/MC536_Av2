{
 "cells": [
  {
   "cell_type": "code",
   "execution_count": 10,
   "id": "5e75ae1c",
   "metadata": {},
   "outputs": [],
   "source": [
    "import duckdb"
   ]
  },
  {
   "cell_type": "code",
   "execution_count": 11,
   "id": "4bd247dc",
   "metadata": {},
   "outputs": [],
   "source": [
    "con = duckdb.connect()\n",
    "\n",
    "def cria_tab(con):\n",
    "    con.sql(\"DROP TABLE IF EXISTS Usina; DROP SEQUENCE IF EXISTS id_usina; DROP TABLE IF EXISTS Precipitacao;\")\n",
    "    sql_create_usina = \"\"\"\n",
    "        CREATE SEQUENCE id_usina;\n",
    "        CREATE TABLE IF NOT EXISTS Usina (\n",
    "            id INTEGER PRIMARY KEY,\n",
    "            nome VARCHAR NOT NULL,\n",
    "            proprietario VARCHAR,\n",
    "            munic1 VARCHAR NOT NULL,\n",
    "            uf1 VARCHAR NOT NULL,\n",
    "            munic2 VARCHAR,\n",
    "            uf2 VARCHAR,\n",
    "            rio VARCHAR NOT NULL,\n",
    "            potkw FLOAT,\n",
    "            atualizacao DATE,\n",
    "            iniciop DATE,\n",
    "            potfis FLOAT,\n",
    "            lat DOUBLE PRECISION,\n",
    "            long DOUBLE PRECISION,\n",
    "            estagio VARCHAR\n",
    "        );\n",
    "    \"\"\"\n",
    "    sql_create_precipitacao = \"\"\"\n",
    "        CREATE TABLE IF NOT EXISTS Precipitacao AS\n",
    "        SELECT\n",
    "            ROW_NUMBER() OVER () AS id,\n",
    "            RIO AS rio,\n",
    "            X AS long,\n",
    "            Y AS lat,\n",
    "            ANOINI AS iniciop,\n",
    "            MED_ANUAL AS medanual,\n",
    "            DP_ANUAL AS dpanual,\n",
    "            CV_ANUAL AS cvanual,\n",
    "            MIN_ANUAL AS minanual,\n",
    "            MAX_ANUAL AS maxanual,\n",
    "            N_CDD AS ndiasecoscons,\n",
    "            MAX_CDD AS mxdiasecos,\n",
    "            MIN_CDD AS mndiasecos,\n",
    "            N_R20 AS nr20,\n",
    "            MED_R20 AS mdr20,\n",
    "            MAX_R20 AS mxr20,\n",
    "            PMXGEVMMLT AS prec_max_gev\n",
    "        FROM read_csv_auto('Dados_Pluviométricos_ANA.csv')\n",
    "    \"\"\"\n",
    "    con.sql(sql_create_usina)\n",
    "    #con.sql(sql_create_precipitacao)\n",
    "    con.commit()\n",
    "\n",
    "def carrega_csv(con):\n",
    "    sql_carrega_tabela_usi = f\"\"\"\n",
    "        INSERT INTO Usina (id, nome, proprietario, munic1, uf1, munic2, uf2, rio, potkw, atualizacao, iniciop, potfis, lat, long, estagio)\n",
    "        SELECT nextval('id_usina') as id, nome, prop as proprietario, munic1, uf1, munic2, uf2, rio,\n",
    "        CAST(REPLACE(CAST(potkw AS VARCHAR), ',', '.') AS DOUBLE),\n",
    "        TRY_CAST(atualiz AS DATE) as atualizacao,\n",
    "        CASE WHEN iniciop = '0' THEN NULL ELSE STRPTIME(iniciop, '%d/%m/%Y') END as iniciop,\n",
    "        CAST(REPLACE(CAST(potfisc AS VARCHAR), ',', '.') AS DOUBLE),\n",
    "        CAST(REPLACE(lat, ',', '.') AS DOUBLE),\n",
    "        CAST(REPLACE(long, ',', '.') AS DOUBLE),\n",
    "        estag as estagio\n",
    "        FROM read_csv(['Centrais_Geradoras_Hidrelétricas_CGH.csv', 'Usinas_Hidrelétricas_UHE.csv'], union_by_name=true,sep=';', dateformat = '%d/%m/%Y')\n",
    "    \"\"\"\n",
    "    sql_clean_usiprec = \"\"\"DROP TABLE IF EXISTS Usi_Prec_Desnorm; DROP SEQUENCE IF EXISTS id_usi_prec;\"\"\"\n",
    "    sql_create_desnorm_usiprec = \"\"\"\n",
    "        CREATE SEQUENCE id_usi_prec;\n",
    "        CREATE TABLE IF NOT EXISTS Usi_Prec_Desnorm AS\n",
    "        SELECT u.*, p.medanual, p.dpanual, p.cvanual, p.minanual, p.maxanual, p.ndiasecoscons, p.mxdiasecos, p.mndiasecos, p.nr20, p.mdr20, p.mxr20, p.prec_max_gev\n",
    "        FROM Usina u\n",
    "        JOIN Precipitacao p\n",
    "        ON ABS(u.lat - p.lat) <= 0.08 AND ABS(u.long - p.long) <= 0.08\n",
    "    \"\"\"\n",
    "    con.sql(sql_carrega_tabela_usi)\n",
    "    #con.sql(sql_clean_usiprec)\n",
    "    #con.sql(sql_create_desnorm_usiprec)\n",
    "    con.commit()\n",
    "\n",
    "def executa_query(con, query):\n",
    "    print(con.sql(query).show())"
   ]
  },
  {
   "cell_type": "code",
   "execution_count": 12,
   "id": "374971d7",
   "metadata": {},
   "outputs": [],
   "source": [
    "cria_tab(con)\n",
    "carrega_csv(con)"
   ]
  },
  {
   "cell_type": "code",
   "execution_count": 13,
   "id": "d7ee808c",
   "metadata": {},
   "outputs": [
    {
     "name": "stdout",
     "output_type": "stream",
     "text": [
      "┌───────┬───────────────────────────────────────────────┬─────────────────────────────────────────────────────────────────────────────────────────────────────────────────────────────────────────────────────────────────┬───────────────────────┬─────────┬────────────────┬─────────┬───────────────────┬───────────┬─────────────┬────────────┬───────────┬──────────────┬──────────────┬─────────────────┐\n",
      "│  id   │                     nome                      │                                                                          proprietario                                                                           │        munic1         │   uf1   │     munic2     │   uf2   │        rio        │   potkw   │ atualizacao │  iniciop   │  potfis   │     lat      │     long     │     estagio     │\n",
      "│ int32 │                    varchar                    │                                                                             varchar                                                                             │        varchar        │ varchar │    varchar     │ varchar │      varchar      │   float   │    date     │    date    │   float   │    double    │    double    │     varchar     │\n",
      "├───────┼───────────────────────────────────────────────┼─────────────────────────────────────────────────────────────────────────────────────────────────────────────────────────────────────────────────────────────────┼───────────────────────┼─────────┼────────────────┼─────────┼───────────────────┼───────────┼─────────────┼────────────┼───────────┼──────────────┼──────────────┼─────────────────┤\n",
      "│    57 │ Arroio das Flores                             │ NULL                                                                                                                                                            │ Itapirapuã Paulista   │ SP      │ Doutor Ulysses │ PR      │ Rio Itapirapuã    │    3200.0 │ 2023-10-30  │ NULL       │       0.0 │ -24.69322226 │ -49.26027777 │ Revogada        │\n",
      "│    58 │ Ribeirão da Lagoa                             │ NULL                                                                                                                                                            │ Itapirapuã Paulista   │ SP      │ Doutor Ulysses │ PR      │ Rio Itapirapuã    │    3000.0 │ 2023-10-30  │ NULL       │       0.0 │   -24.649278 │   -49.301694 │ Pré-Cadastro    │\n",
      "│    59 │ Catas Altas I                                 │ Orsa International Paper Embalagens S. A.                                                                                                                       │ Ribeira               │ SP      │ NULL           │ NULL    │ Rio Catas Altas   │    4000.0 │ 2023-10-30  │ 1962-05-15 │    4000.0 │ -24.59722222 │      -49.135 │ Operação        │\n",
      "│    60 │ Apiaí                                         │ Apiaí Energia S.A.                                                                                                                                              │ Barra do Chapeú       │ SP      │ NULL           │ NULL    │ Rio Catas Altas   │    1000.0 │ 2023-10-30  │ 1951-01-01 │    1000.0 │ -24.48338607 │ -49.06499596 │ Operação        │\n",
      "│    61 │ Catas Altas III                               │ NULL                                                                                                                                                            │ Barra do Chapéu       │ SP      │ NULL           │ NULL    │ Rio Catas Altas   │    2500.0 │ 2023-10-30  │ NULL       │       0.0 │ -24.48333333 │ -49.11666667 │ Eixo Disponível │\n",
      "│    62 │ Corredeira do Capote                          │ Maringá Ferro Liga S.A.                                                                                                                                         │ Ribeirão Branco       │ SP      │ NULL           │ NULL    │ Rio Apiaí-Guaçu   │    1723.0 │ 2023-10-30  │ 1960-01-01 │    1723.0 │ -24.16861111 │     -48.7125 │ Operação        │\n",
      "│    63 │ São José                                      │ Maringá Ferro-Liga S.A.                                                                                                                                         │ Nova Campina          │ SP      │ NULL           │ NULL    │ Rio Taquari-Guaçu │     660.0 │ 2023-10-30  │ 1925-01-01 │     660.0 │ -24.13366155 │ -48.96599811 │ Operação        │\n",
      "│    64 │ Salto da Barra                                │ Maringá Ferro Liga S.A.                                                                                                                                         │ Itapeva               │ SP      │ NULL           │ NULL    │ Rio Apiaí-Guaçu   │    2092.0 │ 2023-10-30  │ 1954-01-01 │    2092.0 │ -24.06388889 │ -48.72666667 │ Operação        │\n",
      "│    65 │ Cachoeira Poço Preto II                       │ Maringá Ferro Liga S.A.                                                                                                                                         │ Itararé               │ SP      │ Sengés         │ PR      │ Rio Itararé       │    2099.0 │ 2023-10-30  │ 1964-01-01 │    2099.0 │ -24.04791199 │ -49.45779128 │ Operação        │\n",
      "│    66 │ Cachoeira Poço Preto I                        │ Maringá Ferro Liga S.A.                                                                                                                                         │ Itararé               │ SP      │ Sengés         │ PR      │ Rio Itararé       │    2094.0 │ 2023-10-30  │ 1964-01-01 │    2094.0 │ -24.03698847 │ -49.46292882 │ Operação        │\n",
      "│     · │        ·                                      │  ·                                                                                                                                                              │    ·                  │ ·       │   ·            │ ·       │   ·               │       ·   │     ·       │  ·         │        ·  │       ·      │       ·      │    ·            │\n",
      "│     · │        ·                                      │  ·                                                                                                                                                              │    ·                  │ ·       │   ·            │ ·       │   ·               │       ·   │     ·       │  ·         │        ·  │       ·      │       ·      │    ·            │\n",
      "│     · │        ·                                      │  ·                                                                                                                                                              │    ·                  │ ·       │   ·            │ ·       │   ·               │       ·   │     ·       │  ·         │        ·  │       ·      │       ·      │    ·            │\n",
      "│    47 │ Salto do Itapura                              │ NULL                                                                                                                                                            │ Itapura               │ SP      │ Castilho       │ SP      │ Tietê             │    4000.0 │ 2023-10-30  │ NULL       │       0.0 │ -20.65037907 │  -51.5094328 │ Desativada      │\n",
      "│    48 │ Barretos                                      │ NULL                                                                                                                                                            │ Barretos              │ SP      │ Guaíra         │ SP      │ Rio Pardo         │   46500.0 │ 2023-10-30  │ NULL       │       0.0 │   -20.460278 │   -48.445278 │ Eixo Disponível │\n",
      "│    49 │ Ilha Solteira                                 │ Rio Paraná Energia S.A.                                                                                                                                         │ Ilha Solteira         │ SP      │ Selvíria       │ MS      │ Rio Paraná        │ 3444000.0 │ 2023-10-30  │ 1973-07-18 │ 3444000.0 │   -20.382222 │   -51.363611 │ Operação        │\n",
      "│    50 │ Marimbondo                                    │ Furnas Centrais Elétricas S/A.                                                                                                                                  │ Fronteira             │ MG      │ Icém           │ SP      │ Rio Grande        │ 1440000.0 │ 2023-10-30  │ 1975-10-25 │ 1440000.0 │ -20.30295508 │ -49.19767827 │ Operação        │\n",
      "│    51 │ Estreito (Luiz Carlos Barreto de Carvalho)    │ Furnas Centrais Elétricas S.A.                                                                                                                                  │ Pedregulho            │ SP      │ Sacramento     │ MG      │ Rio Grande        │ 1050000.0 │ 2023-10-30  │ 1969-03-16 │ 1050000.0 │  -20.1508584 │ -47.27979292 │ Operação        │\n",
      "│    52 │ Porto Colômbia                                │ Furnas Centrais Elétricas S.A.                                                                                                                                  │ Guaíra                │ SP      │ Planura        │ MG      │ Rio Grande        │  320000.0 │ 2023-10-30  │ 1973-06-29 │  320000.0 │   -20.124167 │   -48.571944 │ Operação        │\n",
      "│    53 │ Volta Grande                                  │ ENEL Green Power Projetos I S.A.                                                                                                                                │ Conceição das Alagoas │ MG      │ Miguelópolis   │ SP      │ Rio Grande        │  380000.0 │ 2023-10-30  │ 1974-04-22 │  380000.0 │ -20.03326721 │ -48.22184427 │ Operação        │\n",
      "│    54 │ Jaguara                                       │ Companhia Energética Jaguara                                                                                                                                    │ Rifaina               │ SP      │ Sacramento     │ MG      │ Rio Grande        │  424000.0 │ 2023-10-30  │ 1971-01-01 │  424000.0 │ -20.02273195 │ -47.43389241 │ Operação        │\n",
      "│    55 │ Igarapava                                     │ Aliança Geração de Energia S.A., Anglogold Ashanti Brasil Mineração Ltda, Companhia Siderúrgica Nacional, L.D.R.S.P.E. Geração de Energia e Participações Ltda. │ Conquista             │ MG      │ Igarapava      │ SP      │ Rio Grande        │  210000.0 │ 2023-10-30  │ 1998-12-31 │  210000.0 │ -19.98907385 │  -47.7559932 │ Operação        │\n",
      "│    56 │ Água Vermelha (Antiga José Ermírio de Moraes) │ AES Brasil Operações S.A.                                                                                                                                       │ Ouroeste              │ SP      │ Iturama        │ MG      │ Rio Grande        │ 1396200.0 │ 2023-10-30  │ 1978-08-22 │ 1396200.0 │ -19.86315702 │ -50.34647804 │ Operação        │\n",
      "├───────┴───────────────────────────────────────────────┴─────────────────────────────────────────────────────────────────────────────────────────────────────────────────────────────────────────────────────────────────┴───────────────────────┴─────────┴────────────────┴─────────┴───────────────────┴───────────┴─────────────┴────────────┴───────────┴──────────────┴──────────────┴─────────────────┤\n",
      "│ 128 rows (20 shown)                                                                                                                                                                                                                                                                                                                                                                              15 columns │\n",
      "└─────────────────────────────────────────────────────────────────────────────────────────────────────────────────────────────────────────────────────────────────────────────────────────────────────────────────────────────────────────────────────────────────────────────────────────────────────────────────────────────────────────────────────────────────────────────────────────────────────────────┘\n",
      "\n"
     ]
    }
   ],
   "source": [
    "con.sql(\"SELECT * FROM Usina\").show()"
   ]
  },
  {
   "cell_type": "code",
   "execution_count": 14,
   "id": "b7d55bf8",
   "metadata": {},
   "outputs": [
    {
     "name": "stdout",
     "output_type": "stream",
     "text": [
      "┌─────────────────────────┬────────────────────────────┬───────────────────────────────┬──────────────────────────────────┐\n",
      "│ porcentagem_multiestado │ porcentagem_multimunicipio │ maior_pot_teorica_multiestado │ maior_pot_teorica_multimunicipio │\n",
      "│         double          │           double           │             float             │              float               │\n",
      "├─────────────────────────┼────────────────────────────┼───────────────────────────────┼──────────────────────────────────┤\n",
      "│                 20.3125 │                   53.90625 │                     3444000.0 │                        3444000.0 │\n",
      "└─────────────────────────┴────────────────────────────┴───────────────────────────────┴──────────────────────────────────┘\n",
      "\n",
      "None\n"
     ]
    }
   ],
   "source": [
    "# Porcentagem de usinas que abastecem dois estados e dois municípios e as maiores potências (no papel) dessas usinas\n",
    "query_1A = \"\"\"  WITH porcentagens AS ( \n",
    "                    SELECT (COUNT(CASE WHEN uf1 <> uf2 THEN 1 END) * 100.0 / COUNT(*)) AS porcentagem_multiestado, (COUNT(CASE WHEN munic1 <> munic2 THEN 1 END) * 100.0 / COUNT(*)) AS porcentagem_multimunicipio FROM Usina),\n",
    "                maior_pot_multiestado AS ( SELECT MAX(potkw) AS maior_pot_teorica_multiestado\n",
    "                    FROM Usina\n",
    "                    WHERE uf1 <> uf2\n",
    "                ),\n",
    "                maior_pot_multimunicipio AS ( SELECT MAX(potkw) AS maior_pot_teorica_multimunicipio\n",
    "                    FROM Usina\n",
    "                    WHERE munic1 <> munic2\n",
    "                )\n",
    "                SELECT * FROM porcentagens\n",
    "                CROSS JOIN maior_pot_multiestado\n",
    "                CROSS JOIN maior_pot_multimunicipio;\"\"\"\n",
    "executa_query(con, query_1A)\n",
    "\n",
    "# Novas hidrelétricas (menos de 10 anos) e suas potências\n",
    "query_2A = \"\"\" SELECT nome, potkw, potfis, date_part('year', iniciop) AS ano_inicio, datediff('year', iniciop, DATE '2023-01-01') AS anos_operacao \n",
    "    FROM Usina\n",
    "    WHERE datediff('year', iniciop, DATE '2023-01-01') < 10 AND estagio = 'Operação'\n",
    "    ORDER BY anos_operacao DESC;\"\"\"\n",
    "\n",
    "# Média de potência por década\n",
    "query_3A = \"\"\" SELECT CAST(FLOOR(extract('year' FROM iniciop) / 10) * 10 AS INTEGER) || 's' AS decada, ROUND(AVG(potkw), 2) AS pot_med\n",
    "            FROM Usina\n",
    "            WHERE estagio = 'Operação'\n",
    "            GROUP BY decada\n",
    "            ORDER BY decada;\"\"\"\n",
    "\n",
    "# Os rios que geram mais potencial e sua quantidade de usinas e o(s) estado(s) onde se encontram\n",
    "query_4A = \"\"\" SELECT DISTINCT rio, ROUND(SUM(potkw), 2) AS pot_total, COUNT(*) AS quantidade_usinas, uf1\n",
    "            FROM Usina\n",
    "            WHERE estagio = 'Operação'\n",
    "            GROUP BY rio, uf1\n",
    "            ORDER BY pot_total DESC;\"\"\"\n",
    "\n",
    "# Quantidade de usinas fora de operação por estado\n",
    "query_5A = \"\"\" SELECT uf1, COUNT(*) AS quantidade_usinas\n",
    "            FROM Usina\n",
    "            WHERE estagio != 'Operação'\n",
    "            GROUP BY uf1;\"\"\""
   ]
  },
  {
   "cell_type": "code",
   "execution_count": 15,
   "id": "0dd7e0f6",
   "metadata": {},
   "outputs": [
    {
     "name": "stdout",
     "output_type": "stream",
     "text": [
      "┌───────────────────────┬────────┬────────┬────────────┬───────────────┐\n",
      "│         nome          │ potkw  │ potfis │ ano_inicio │ anos_operacao │\n",
      "│        varchar        │ float  │ float  │   int64    │     int64     │\n",
      "├───────────────────────┼────────┼────────┼────────────┼───────────────┤\n",
      "│ Hidrogerador Quântico │ 1225.0 │ 1225.0 │       2016 │             7 │\n",
      "│ Jph Participações     │  800.0 │  800.0 │       2017 │             6 │\n",
      "└───────────────────────┴────────┴────────┴────────────┴───────────────┘\n",
      "\n",
      "None\n"
     ]
    }
   ],
   "source": [
    "executa_query(con, query_2A)"
   ]
  },
  {
   "cell_type": "code",
   "execution_count": 16,
   "id": "3b5929db",
   "metadata": {},
   "outputs": [
    {
     "name": "stdout",
     "output_type": "stream",
     "text": [
      "┌─────────┬───────────┐\n",
      "│ decada  │  pot_med  │\n",
      "│ varchar │  double   │\n",
      "├─────────┼───────────┤\n",
      "│ 1900s   │    857.81 │\n",
      "│ 1910s   │   7865.34 │\n",
      "│ 1920s   │  87125.09 │\n",
      "│ 1930s   │   1219.57 │\n",
      "│ 1940s   │     332.5 │\n",
      "│ 1950s   │  14908.52 │\n",
      "│ 1960s   │ 239522.14 │\n",
      "│ 1970s   │  638305.0 │\n",
      "│ 1980s   │ 134543.67 │\n",
      "│ 1990s   │ 411676.25 │\n",
      "│ 2000s   │   11558.0 │\n",
      "│ 2010s   │    1207.4 │\n",
      "│ NULL    │       0.0 │\n",
      "├─────────┴───────────┤\n",
      "│ 13 rows   2 columns │\n",
      "└─────────────────────┘\n",
      "\n",
      "None\n"
     ]
    }
   ],
   "source": [
    "executa_query(con, query_3A)"
   ]
  },
  {
   "cell_type": "code",
   "execution_count": 17,
   "id": "2ae38c37",
   "metadata": {},
   "outputs": [
    {
     "name": "stdout",
     "output_type": "stream",
     "text": [
      "┌────────────────────────┬───────────┬───────────────────┬─────────┐\n",
      "│          rio           │ pot_total │ quantidade_usinas │   uf1   │\n",
      "│        varchar         │  double   │       int64       │ varchar │\n",
      "├────────────────────────┼───────────┼───────────────────┼─────────┤\n",
      "│ Rio Paraná             │ 4995200.0 │                 2 │ SP      │\n",
      "│ Rio Grande             │ 3190200.0 │                 4 │ SP      │\n",
      "│ Rio Grande             │ 2030000.0 │                 3 │ MG      │\n",
      "│ Rio Tietê              │ 1882050.0 │                 9 │ SP      │\n",
      "│ Rio Paraná             │ 1540000.0 │                 1 │ MS      │\n",
      "│ Rio Paranapanema       │ 1223956.0 │                 6 │ SP      │\n",
      "│ Rio Paranapanema       │ 1186800.0 │                 5 │ PR      │\n",
      "│ Rio Pedras             │  889000.0 │                 1 │ SP      │\n",
      "│ Rio Juquiá-Guaçu       │  230700.0 │                 6 │ SP      │\n",
      "│ Rio Pardo              │  222816.0 │                 4 │ SP      │\n",
      "│     ·                  │       ·   │                 · │ ·       │\n",
      "│     ·                  │       ·   │                 · │ ·       │\n",
      "│     ·                  │       ·   │                 · │ ·       │\n",
      "│ Rio Pinheiros          │     640.0 │                 2 │ SP      │\n",
      "│ Rio Camanducaia        │     588.0 │                 1 │ SP      │\n",
      "│ Rio Paca Grande        │     450.0 │                 1 │ SP      │\n",
      "│ Rio Itaquerê           │     409.6 │                 1 │ SP      │\n",
      "│ Rio Piracicaba         │     386.0 │                 1 │ SP      │\n",
      "│ Rio Sapucaí            │     360.0 │                 1 │ SP      │\n",
      "│ Rio Turvo              │     332.5 │                 1 │ SP      │\n",
      "│ Rio Capitão Mor        │     288.0 │                 1 │ SP      │\n",
      "│ Ribeirão das Palmeiras │     230.0 │                 1 │ SP      │\n",
      "│ Ribeirão dos Batatais  │     115.0 │                 1 │ SP      │\n",
      "├────────────────────────┴───────────┴───────────────────┴─────────┤\n",
      "│ 54 rows (20 shown)                                     4 columns │\n",
      "└──────────────────────────────────────────────────────────────────┘\n",
      "\n",
      "None\n"
     ]
    }
   ],
   "source": [
    "executa_query(con, query_4A)"
   ]
  },
  {
   "cell_type": "code",
   "execution_count": 18,
   "id": "9efc5fd3",
   "metadata": {},
   "outputs": [
    {
     "name": "stdout",
     "output_type": "stream",
     "text": [
      "┌─────────┬───────────────────┐\n",
      "│   uf1   │ quantidade_usinas │\n",
      "│ varchar │       int64       │\n",
      "├─────────┼───────────────────┤\n",
      "│ SP      │                26 │\n",
      "└─────────┴───────────────────┘\n",
      "\n",
      "None\n"
     ]
    }
   ],
   "source": [
    "executa_query(con, query_5A)"
   ]
  }
 ],
 "metadata": {
  "kernelspec": {
   "display_name": "Python 3",
   "language": "python",
   "name": "python3"
  },
  "language_info": {
   "codemirror_mode": {
    "name": "ipython",
    "version": 3
   },
   "file_extension": ".py",
   "mimetype": "text/x-python",
   "name": "python",
   "nbconvert_exporter": "python",
   "pygments_lexer": "ipython3",
   "version": "3.10.7"
  }
 },
 "nbformat": 4,
 "nbformat_minor": 5
}
