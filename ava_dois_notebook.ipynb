{
 "cells": [
  {
   "cell_type": "code",
   "execution_count": 1,
   "id": "5e75ae1c",
   "metadata": {},
   "outputs": [],
   "source": [
    "import duckdb\n",
    "con = duckdb.connect()"
   ]
  },
  {
   "cell_type": "code",
   "execution_count": 2,
   "id": "4bd247dc",
   "metadata": {},
   "outputs": [],
   "source": [
    "def cria_tab(con):\n",
    "    # Função para criação de tabelas no duckdb\n",
    "    con.sql(\"DROP TABLE IF EXISTS Usina; DROP SEQUENCE IF EXISTS id_usina; DROP TABLE IF EXISTS Precipitacao;\")\n",
    "    sql_create_usina = \"\"\"\n",
    "        CREATE SEQUENCE id_usina;\n",
    "        CREATE TABLE IF NOT EXISTS Usina (\n",
    "            id INTEGER PRIMARY KEY,\n",
    "            nome VARCHAR NOT NULL,\n",
    "            proprietario VARCHAR,\n",
    "            munic1 VARCHAR NOT NULL,\n",
    "            uf1 VARCHAR NOT NULL,\n",
    "            munic2 VARCHAR,\n",
    "            uf2 VARCHAR,\n",
    "            rio VARCHAR NOT NULL,\n",
    "            potkw FLOAT,\n",
    "            atualizacao DATE,\n",
    "            iniciop DATE,\n",
    "            potfisc FLOAT,\n",
    "            lat DOUBLE PRECISION,\n",
    "            long DOUBLE PRECISION,\n",
    "            estagio VARCHAR\n",
    "        );\n",
    "    \"\"\"\n",
    "    con.sql(sql_create_usina)\n",
    "    con.commit()\n",
    "\n",
    "def carrega_csv(con):\n",
    "    # Função para carregar tabelas com os dados puxados dos arquivos .csv na pasta Datasets\n",
    "    sql_carrega_tabela_usi = \"\"\"\n",
    "        INSERT INTO Usina (id, nome, proprietario, munic1, uf1, munic2, uf2, rio, potkw, atualizacao, iniciop, potfisc, lat, long, estagio)\n",
    "        SELECT nextval('id_usina') as id, nome, prop as proprietario, munic1, uf1, munic2, uf2, rio,\n",
    "        CAST(REPLACE(CAST(potkw AS VARCHAR), ',', '.') AS DOUBLE),\n",
    "        TRY_CAST(atualiz AS DATE) as atualizacao,\n",
    "        CASE WHEN iniciop = '0' THEN NULL ELSE STRPTIME(iniciop, '%d/%m/%Y') END as iniciop,\n",
    "        CAST(REPLACE(CAST(potfisc AS VARCHAR), ',', '.') AS DOUBLE),\n",
    "        CAST(REPLACE(lat, ',', '.') AS DOUBLE),\n",
    "        CAST(REPLACE(long, ',', '.') AS DOUBLE),\n",
    "        estag as estagio\n",
    "        FROM read_csv(['Datasets/Centrais_Geradoras_Hidrelétricas_CGH.csv', 'Datasets/Usinas_Hidrelétricas_UHE.csv'], union_by_name=true,sep=';', dateformat = '%d/%m/%Y')\n",
    "    \"\"\"\n",
    "    sql_clean_usiprec = \"\"\"DROP TABLE IF EXISTS Usi_Prec_Desnorm; DROP SEQUENCE IF EXISTS id_usi_prec;\"\"\"\n",
    "    sql_create_desnorm_usiprec = \"\"\"\n",
    "        CREATE SEQUENCE id_usi_prec;\n",
    "        CREATE TABLE IF NOT EXISTS Usi_Prec_Desnorm AS\n",
    "        SELECT u.*, p.medanual, p.dpanual, p.cvanual, p.minanual, p.maxanual, p.ndiasecoscons, p.mxdiasecos, p.mndiasecos, p.nr20, p.mdr20, p.mxr20, p.prec_max_gev\n",
    "        FROM Usina u\n",
    "        JOIN Precipitacao p\n",
    "        ON ABS(u.lat - p.lat) <= 0.08 AND ABS(u.long - p.long) <= 0.08\n",
    "    \"\"\"\n",
    "    con.sql(sql_carrega_tabela_usi)\n",
    "    con.commit()\n",
    "\n",
    "def executa_query(con, query):\n",
    "    print(con.sql(query).show())"
   ]
  },
  {
   "cell_type": "code",
   "execution_count": 3,
   "id": "374971d7",
   "metadata": {},
   "outputs": [],
   "source": [
    "cria_tab(con)\n",
    "carrega_csv(con)"
   ]
  },
  {
   "cell_type": "code",
   "execution_count": 4,
   "id": "d7ee808c",
   "metadata": {},
   "outputs": [
    {
     "name": "stdout",
     "output_type": "stream",
     "text": [
      "┌───────┬───────────────────────────────────────────────┬─────────────────────────────────────────────────────────────────────────────────────────────────────────────────────────────────────────────────────────────────┬───────────────────────┬─────────┬────────────────┬─────────┬───────────────────┬───────────┬─────────────┬────────────┬───────────┬──────────────┬──────────────┬─────────────────┐\n",
      "│  id   │                     nome                      │                                                                          proprietario                                                                           │        munic1         │   uf1   │     munic2     │   uf2   │        rio        │   potkw   │ atualizacao │  iniciop   │  potfisc  │     lat      │     long     │     estagio     │\n",
      "│ int32 │                    varchar                    │                                                                             varchar                                                                             │        varchar        │ varchar │    varchar     │ varchar │      varchar      │   float   │    date     │    date    │   float   │    double    │    double    │     varchar     │\n",
      "├───────┼───────────────────────────────────────────────┼─────────────────────────────────────────────────────────────────────────────────────────────────────────────────────────────────────────────────────────────────┼───────────────────────┼─────────┼────────────────┼─────────┼───────────────────┼───────────┼─────────────┼────────────┼───────────┼──────────────┼──────────────┼─────────────────┤\n",
      "│     1 │ Arroio das Flores                             │ NULL                                                                                                                                                            │ Itapirapuã Paulista   │ SP      │ Doutor Ulysses │ PR      │ Rio Itapirapuã    │    3200.0 │ 2023-10-30  │ NULL       │       0.0 │ -24.69322226 │ -49.26027777 │ Revogada        │\n",
      "│     2 │ Ribeirão da Lagoa                             │ NULL                                                                                                                                                            │ Itapirapuã Paulista   │ SP      │ Doutor Ulysses │ PR      │ Rio Itapirapuã    │    3000.0 │ 2023-10-30  │ NULL       │       0.0 │   -24.649278 │   -49.301694 │ Pré-Cadastro    │\n",
      "│     3 │ Catas Altas I                                 │ Orsa International Paper Embalagens S. A.                                                                                                                       │ Ribeira               │ SP      │ NULL           │ NULL    │ Rio Catas Altas   │    4000.0 │ 2023-10-30  │ 1962-05-15 │    4000.0 │ -24.59722222 │      -49.135 │ Operação        │\n",
      "│     4 │ Apiaí                                         │ Apiaí Energia S.A.                                                                                                                                              │ Barra do Chapeú       │ SP      │ NULL           │ NULL    │ Rio Catas Altas   │    1000.0 │ 2023-10-30  │ 1951-01-01 │    1000.0 │ -24.48338607 │ -49.06499596 │ Operação        │\n",
      "│     5 │ Catas Altas III                               │ NULL                                                                                                                                                            │ Barra do Chapéu       │ SP      │ NULL           │ NULL    │ Rio Catas Altas   │    2500.0 │ 2023-10-30  │ NULL       │       0.0 │ -24.48333333 │ -49.11666667 │ Eixo Disponível │\n",
      "│     6 │ Corredeira do Capote                          │ Maringá Ferro Liga S.A.                                                                                                                                         │ Ribeirão Branco       │ SP      │ NULL           │ NULL    │ Rio Apiaí-Guaçu   │    1723.0 │ 2023-10-30  │ 1960-01-01 │    1723.0 │ -24.16861111 │     -48.7125 │ Operação        │\n",
      "│     7 │ São José                                      │ Maringá Ferro-Liga S.A.                                                                                                                                         │ Nova Campina          │ SP      │ NULL           │ NULL    │ Rio Taquari-Guaçu │     660.0 │ 2023-10-30  │ 1925-01-01 │     660.0 │ -24.13366155 │ -48.96599811 │ Operação        │\n",
      "│     8 │ Salto da Barra                                │ Maringá Ferro Liga S.A.                                                                                                                                         │ Itapeva               │ SP      │ NULL           │ NULL    │ Rio Apiaí-Guaçu   │    2092.0 │ 2023-10-30  │ 1954-01-01 │    2092.0 │ -24.06388889 │ -48.72666667 │ Operação        │\n",
      "│     9 │ Cachoeira Poço Preto II                       │ Maringá Ferro Liga S.A.                                                                                                                                         │ Itararé               │ SP      │ Sengés         │ PR      │ Rio Itararé       │    2099.0 │ 2023-10-30  │ 1964-01-01 │    2099.0 │ -24.04791199 │ -49.45779128 │ Operação        │\n",
      "│    10 │ Cachoeira Poço Preto I                        │ Maringá Ferro Liga S.A.                                                                                                                                         │ Itararé               │ SP      │ Sengés         │ PR      │ Rio Itararé       │    2094.0 │ 2023-10-30  │ 1964-01-01 │    2094.0 │ -24.03698847 │ -49.46292882 │ Operação        │\n",
      "│     · │        ·                                      │  ·                                                                                                                                                              │    ·                  │ ·       │   ·            │ ·       │   ·               │       ·   │     ·       │  ·         │        ·  │       ·      │       ·      │    ·            │\n",
      "│     · │        ·                                      │  ·                                                                                                                                                              │    ·                  │ ·       │   ·            │ ·       │   ·               │       ·   │     ·       │  ·         │        ·  │       ·      │       ·      │    ·            │\n",
      "│     · │        ·                                      │  ·                                                                                                                                                              │    ·                  │ ·       │   ·            │ ·       │   ·               │       ·   │     ·       │  ·         │        ·  │       ·      │       ·      │    ·            │\n",
      "│   119 │ Salto do Itapura                              │ NULL                                                                                                                                                            │ Itapura               │ SP      │ Castilho       │ SP      │ Tietê             │    4000.0 │ 2023-10-30  │ NULL       │       0.0 │ -20.65037907 │  -51.5094328 │ Desativada      │\n",
      "│   120 │ Barretos                                      │ NULL                                                                                                                                                            │ Barretos              │ SP      │ Guaíra         │ SP      │ Rio Pardo         │   46500.0 │ 2023-10-30  │ NULL       │       0.0 │   -20.460278 │   -48.445278 │ Eixo Disponível │\n",
      "│   121 │ Ilha Solteira                                 │ Rio Paraná Energia S.A.                                                                                                                                         │ Ilha Solteira         │ SP      │ Selvíria       │ MS      │ Rio Paraná        │ 3444000.0 │ 2023-10-30  │ 1973-07-18 │ 3444000.0 │   -20.382222 │   -51.363611 │ Operação        │\n",
      "│   122 │ Marimbondo                                    │ Furnas Centrais Elétricas S/A.                                                                                                                                  │ Fronteira             │ MG      │ Icém           │ SP      │ Rio Grande        │ 1440000.0 │ 2023-10-30  │ 1975-10-25 │ 1440000.0 │ -20.30295508 │ -49.19767827 │ Operação        │\n",
      "│   123 │ Estreito (Luiz Carlos Barreto de Carvalho)    │ Furnas Centrais Elétricas S.A.                                                                                                                                  │ Pedregulho            │ SP      │ Sacramento     │ MG      │ Rio Grande        │ 1050000.0 │ 2023-10-30  │ 1969-03-16 │ 1050000.0 │  -20.1508584 │ -47.27979292 │ Operação        │\n",
      "│   124 │ Porto Colômbia                                │ Furnas Centrais Elétricas S.A.                                                                                                                                  │ Guaíra                │ SP      │ Planura        │ MG      │ Rio Grande        │  320000.0 │ 2023-10-30  │ 1973-06-29 │  320000.0 │   -20.124167 │   -48.571944 │ Operação        │\n",
      "│   125 │ Volta Grande                                  │ ENEL Green Power Projetos I S.A.                                                                                                                                │ Conceição das Alagoas │ MG      │ Miguelópolis   │ SP      │ Rio Grande        │  380000.0 │ 2023-10-30  │ 1974-04-22 │  380000.0 │ -20.03326721 │ -48.22184427 │ Operação        │\n",
      "│   126 │ Jaguara                                       │ Companhia Energética Jaguara                                                                                                                                    │ Rifaina               │ SP      │ Sacramento     │ MG      │ Rio Grande        │  424000.0 │ 2023-10-30  │ 1971-01-01 │  424000.0 │ -20.02273195 │ -47.43389241 │ Operação        │\n",
      "│   127 │ Igarapava                                     │ Aliança Geração de Energia S.A., Anglogold Ashanti Brasil Mineração Ltda, Companhia Siderúrgica Nacional, L.D.R.S.P.E. Geração de Energia e Participações Ltda. │ Conquista             │ MG      │ Igarapava      │ SP      │ Rio Grande        │  210000.0 │ 2023-10-30  │ 1998-12-31 │  210000.0 │ -19.98907385 │  -47.7559932 │ Operação        │\n",
      "│   128 │ Água Vermelha (Antiga José Ermírio de Moraes) │ AES Brasil Operações S.A.                                                                                                                                       │ Ouroeste              │ SP      │ Iturama        │ MG      │ Rio Grande        │ 1396200.0 │ 2023-10-30  │ 1978-08-22 │ 1396200.0 │ -19.86315702 │ -50.34647804 │ Operação        │\n",
      "├───────┴───────────────────────────────────────────────┴─────────────────────────────────────────────────────────────────────────────────────────────────────────────────────────────────────────────────────────────────┴───────────────────────┴─────────┴────────────────┴─────────┴───────────────────┴───────────┴─────────────┴────────────┴───────────┴──────────────┴──────────────┴─────────────────┤\n",
      "│ 128 rows (20 shown)                                                                                                                                                                                                                                                                                                                                                                              15 columns │\n",
      "└─────────────────────────────────────────────────────────────────────────────────────────────────────────────────────────────────────────────────────────────────────────────────────────────────────────────────────────────────────────────────────────────────────────────────────────────────────────────────────────────────────────────────────────────────────────────────────────────────────────────┘\n",
      "\n"
     ]
    }
   ],
   "source": [
    "# Talvez aqui seja uma bom lugar para explicar o significa cada campo na saída das pesquisas\n",
    "# id                - número inteiro único que identifica cada usina\n",
    "# nome              - nome da usina\n",
    "# proprietario      - empresa proprietária da usina\n",
    "# munic1            - município principal no qual a usina está localizada\n",
    "# uf1               - código da unidade federativa na qual a usina está localizada\n",
    "# munic2            - segundo município afetado pela usina fora o município principal\n",
    "# uf2               - unidade federativa em que está o segundo município\n",
    "# rio               - rio no qual a usina foi instalada\n",
    "# potkw             - potência em kilowatts obtida\n",
    "# atualizacao       - última data de atualização de dados\n",
    "# iniciop           - data de início das operações\n",
    "# potfisc           - potência máxima fiscalizada\n",
    "# lat               - latitude\n",
    "# long              - longitude\n",
    "# estagio           - classificação que abrange sua operação, desativação, eixo instalado mas inoperante, etc. \n",
    "con.sql(\"SELECT * FROM Usina\").show()"
   ]
  },
  {
   "cell_type": "code",
   "execution_count": 5,
   "id": "b7d55bf8",
   "metadata": {},
   "outputs": [
    {
     "name": "stdout",
     "output_type": "stream",
     "text": [
      "┌─────────────────────────┬────────────────────────────┬───────────────────────────────┬──────────────────────────────────┐\n",
      "│ porcentagem_multiestado │ porcentagem_multimunicipio │ maior_pot_teorica_multiestado │ maior_pot_teorica_multimunicipio │\n",
      "│         double          │           double           │             float             │              float               │\n",
      "├─────────────────────────┼────────────────────────────┼───────────────────────────────┼──────────────────────────────────┤\n",
      "│                 20.3125 │                   53.90625 │                     3444000.0 │                        3444000.0 │\n",
      "└─────────────────────────┴────────────────────────────┴───────────────────────────────┴──────────────────────────────────┘\n",
      "\n",
      "None\n"
     ]
    }
   ],
   "source": [
    "# Porcentagem de usinas que abastecem dois estados e dois municípios e as maiores potências (no papel) dessas usinas\n",
    "query_1A = \"\"\"  WITH porcentagens AS ( \n",
    "                    SELECT (COUNT(CASE WHEN uf1 <> uf2 THEN 1 END) * 100.0 / COUNT(*)) AS porcentagem_multiestado, (COUNT(CASE WHEN munic1 <> munic2 THEN 1 END) * 100.0 / COUNT(*)) AS porcentagem_multimunicipio FROM Usina),\n",
    "                maior_pot_multiestado AS ( SELECT MAX(potkw) AS maior_pot_teorica_multiestado\n",
    "                    FROM Usina\n",
    "                    WHERE uf1 <> uf2\n",
    "                ),\n",
    "                maior_pot_multimunicipio AS ( SELECT MAX(potkw) AS maior_pot_teorica_multimunicipio\n",
    "                    FROM Usina\n",
    "                    WHERE munic1 <> munic2\n",
    "                )\n",
    "                SELECT * FROM porcentagens\n",
    "                CROSS JOIN maior_pot_multiestado\n",
    "                CROSS JOIN maior_pot_multimunicipio;\"\"\"\n",
    "\n",
    "# Porcentagem de usinas que abastecem dois municípios\n",
    "# E dentre elas, quanto se resume a dois municípios no mesmo estado e quanto dois municípios em dois estados distintos\n",
    "\n",
    "\n",
    "\n",
    "executa_query(con, query_1A)"
   ]
  },
  {
   "cell_type": "code",
   "execution_count": 6,
   "id": "0dd7e0f6",
   "metadata": {},
   "outputs": [
    {
     "name": "stdout",
     "output_type": "stream",
     "text": [
      "┌─────────┬────────────────────┬────────────────────┬────────────────────┐\n",
      "│ estado  │  potencial_usado   │  potencial_total   │   aproveitamento   │\n",
      "│ varchar │       double       │       double       │       double       │\n",
      "├─────────┼────────────────────┼────────────────────┼────────────────────┤\n",
      "│ MG      │          2610440.0 │          2610440.0 │                1.0 │\n",
      "│ MS      │          3267600.0 │          3267600.0 │                1.0 │\n",
      "│ PR      │          1106246.5 │          1106296.5 │ 0.9999548041596443 │\n",
      "│ SP      │ 10774918.419950008 │ 10786138.419950008 │ 0.9989597760047982 │\n",
      "└─────────┴────────────────────┴────────────────────┴────────────────────┘\n",
      "\n",
      "None\n"
     ]
    }
   ],
   "source": [
    "# Gera um ranking dos estados, baseando-se em uma ESTIMATIVA de quanto cada uma de suas usinas ativas melhor\n",
    "# aproveita seus potenciais em relação ao máximo fiscalizado.\n",
    "# Como a proporção de divisão de energia para cada usina de dois estados é desconhecida, foi tomada a proporção 50/50\n",
    "query_2A = \"\"\"\n",
    "    WITH temp AS (\n",
    "      SELECT uf1 AS estado, potkw / 2 AS estado_potkw, potfisc / 2 AS estado_potfisc\n",
    "      FROM Usina\n",
    "      WHERE uf1 IS NOT NULL AND uf2 IS NOT NULL\n",
    "        AND potfisc IS NOT NULL AND potfisc != 0 AND potkw IS NOT NULL AND potkw != 0\n",
    "    \n",
    "      UNION ALL\n",
    "    \n",
    "      SELECT uf2 AS estado, potkw / 2 AS estado_potkw, potfisc / 2 AS estado_potfisc\n",
    "      FROM Usina\n",
    "      WHERE uf1 IS NOT NULL AND uf2 IS NOT NULL\n",
    "        AND potfisc IS NOT NULL AND potfisc != 0 AND potkw IS NOT NULL AND potkw != 0\n",
    "    \n",
    "      UNION ALL\n",
    "    \n",
    "      SELECT uf1 AS estado, potkw AS estado_potkw, potfisc AS estado_potfisc\n",
    "      FROM Usina\n",
    "      WHERE uf2 IS NULL\n",
    "        AND potfisc IS NOT NULL AND potfisc != 0 AND potkw IS NOT NULL AND potkw != 0\n",
    "    )\n",
    "\n",
    "    SELECT\n",
    "      estado,\n",
    "      SUM(estado_potkw) AS potencial_usado,\n",
    "      SUM(estado_potfisc) AS potencial_total,\n",
    "      SUM(estado_potkw) / NULLIF(SUM(estado_potfisc), 0) AS aproveitamento\n",
    "    FROM temp\n",
    "    GROUP BY estado\n",
    "    HAVING aproveitamento IS NOT NULL\n",
    "    ORDER BY aproveitamento DESC;\n",
    "\"\"\"\n",
    "\n",
    "executa_query(con, query_2A)"
   ]
  },
  {
   "cell_type": "code",
   "execution_count": 7,
   "id": "3b5929db",
   "metadata": {},
   "outputs": [
    {
     "name": "stdout",
     "output_type": "stream",
     "text": [
      "┌─────────┬───────────┐\n",
      "│ decada  │  pot_med  │\n",
      "│ varchar │  double   │\n",
      "├─────────┼───────────┤\n",
      "│ 1900s   │    857.81 │\n",
      "│ 1910s   │   7865.34 │\n",
      "│ 1920s   │  87125.09 │\n",
      "│ 1930s   │   1219.57 │\n",
      "│ 1940s   │     332.5 │\n",
      "│ 1950s   │  14908.52 │\n",
      "│ 1960s   │ 239522.14 │\n",
      "│ 1970s   │  638305.0 │\n",
      "│ 1980s   │ 134543.67 │\n",
      "│ 1990s   │ 411676.25 │\n",
      "│ 2000s   │   11558.0 │\n",
      "│ 2010s   │    1207.4 │\n",
      "│ NULL    │       0.0 │\n",
      "├─────────┴───────────┤\n",
      "│ 13 rows   2 columns │\n",
      "└─────────────────────┘\n",
      "\n",
      "None\n"
     ]
    }
   ],
   "source": [
    "# Média de potência por década\n",
    "query_3A = \"\"\" SELECT CAST(FLOOR(extract('year' FROM iniciop) / 10) * 10 AS INTEGER) || 's' AS decada, ROUND(AVG(potkw), 2) AS pot_med\n",
    "            FROM Usina\n",
    "            WHERE estagio = 'Operação'\n",
    "            GROUP BY decada\n",
    "            ORDER BY decada;\"\"\"\n",
    "\n",
    "executa_query(con, query_3A)"
   ]
  },
  {
   "cell_type": "code",
   "execution_count": 14,
   "id": "2ae38c37",
   "metadata": {},
   "outputs": [
    {
     "name": "stdout",
     "output_type": "stream",
     "text": [
      "┌────────────────────────┬───────────┬───────────────────┐\n",
      "│          rio           │ pot_total │ quantidade_usinas │\n",
      "│        varchar         │  double   │       int64       │\n",
      "├────────────────────────┼───────────┼───────────────────┤\n",
      "│ Rio Paraná             │ 6535200.0 │                 3 │\n",
      "│ Rio Grande             │ 5220200.0 │                 7 │\n",
      "│ Rio Paranapanema       │ 2410756.0 │                11 │\n",
      "│ Rio Tietê              │ 1882050.0 │                 9 │\n",
      "│ Rio Pedras             │  889000.0 │                 1 │\n",
      "│ Rio Juquiá-Guaçu       │  230700.0 │                 6 │\n",
      "│ Rio Pardo              │  222816.0 │                 4 │\n",
      "│ Rio Paraibuna          │   87020.0 │                 1 │\n",
      "│ Rio Sorocaba           │   61240.0 │                 4 │\n",
      "│ Rio Paraíba do Sul     │   56050.0 │                 1 │\n",
      "│         ·              │       ·   │                 · │\n",
      "│         ·              │       ·   │                 · │\n",
      "│         ·              │       ·   │                 · │\n",
      "│ Ribeirão Boa Vista     │     640.0 │                 1 │\n",
      "│ Rio Camanducaia        │     588.0 │                 1 │\n",
      "│ Rio Paca Grande        │     450.0 │                 1 │\n",
      "│ Rio Itaquerê           │     409.6 │                 1 │\n",
      "│ Rio Piracicaba         │     386.0 │                 1 │\n",
      "│ Rio Sapucaí            │     360.0 │                 1 │\n",
      "│ Rio Turvo              │     332.5 │                 1 │\n",
      "│ Rio Capitão Mor        │     288.0 │                 1 │\n",
      "│ Ribeirão das Palmeiras │     230.0 │                 1 │\n",
      "│ Ribeirão dos Batatais  │     115.0 │                 1 │\n",
      "├────────────────────────┴───────────┴───────────────────┤\n",
      "│ 51 rows (20 shown)                           3 columns │\n",
      "└────────────────────────────────────────────────────────┘\n",
      "\n",
      "None\n"
     ]
    }
   ],
   "source": [
    "# Descobre os rios que geram mais potencial, suas quantidades respectivas de usinas e o estado principal que abastece\n",
    "query_4B = \"\"\" SELECT rio, ROUND(SUM(potkw), 2) AS pot_total, COUNT(*) AS quantidade_usinas\n",
    "        FROM Usina\n",
    "        WHERE estagio = 'Operação'\n",
    "        GROUP BY rio\n",
    "        ORDER BY pot_total DESC;\n",
    "        \"\"\"\n",
    "executa_query(con, query_4B)\n"
   ]
  },
  {
   "cell_type": "code",
   "execution_count": 9,
   "id": "9efc5fd3",
   "metadata": {},
   "outputs": [
    {
     "name": "stdout",
     "output_type": "stream",
     "text": [
      "┌─────────┬───────────────────────┐\n",
      "│   uf1   │ quantidade_inoperante │\n",
      "│ varchar │         int64         │\n",
      "├─────────┼───────────────────────┤\n",
      "│ SP      │                    27 │\n",
      "└─────────┴───────────────────────┘\n",
      "\n",
      "None\n"
     ]
    }
   ],
   "source": [
    "# Quantidade de usinas que não produzem por estado, e quanto de energia potencial é deixada de ser explorada por consequência\n",
    "query_5A = \"\"\" SELECT uf1, COUNT(*) AS quantidade_inoperante\n",
    "            FROM Usina\n",
    "            WHERE estagio != 'Operação' OR potkw = 0 or potfisc = 0\n",
    "            GROUP BY uf1;\"\"\"\n",
    "\n",
    "executa_query(con, query_5A)"
   ]
  },
  {
   "cell_type": "code",
   "execution_count": null,
   "id": "4b0cedd0-7b45-4734-a899-23a683f9d4de",
   "metadata": {},
   "outputs": [],
   "source": []
  }
 ],
 "metadata": {
  "kernelspec": {
   "display_name": "Python 3 (ipykernel)",
   "language": "python",
   "name": "python3"
  },
  "language_info": {
   "codemirror_mode": {
    "name": "ipython",
    "version": 3
   },
   "file_extension": ".py",
   "mimetype": "text/x-python",
   "name": "python",
   "nbconvert_exporter": "python",
   "pygments_lexer": "ipython3",
   "version": "3.12.3"
  }
 },
 "nbformat": 4,
 "nbformat_minor": 5
}
